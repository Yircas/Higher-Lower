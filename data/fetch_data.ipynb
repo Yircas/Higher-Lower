{
 "cells": [
  {
   "cell_type": "markdown",
   "metadata": {},
   "source": [
    "# Retrieving data from MyAnimeList\n",
    "This Jupyter Notebook should allow you to get information about the top rated Anime/Manga from MAL via the official API. We're fetching:\n",
    "- The items' title\n",
    "- the average user score\n",
    "- the url to the picture of the item\n",
    "\n",
    "Simply run all code cells below to get the data\n",
    "\n",
    "### Imports and entering your Client information\n",
    "When prompted in the output, please enter your Client-ID and Client-Secret for API access. You get those after creating an ID on [this site](https://myanimelist.net/apiconfig). You will have to do this everytime you re-use this Notebook and get data from MAL."
   ]
  },
  {
   "cell_type": "code",
   "execution_count": 1,
   "metadata": {},
   "outputs": [
    {
     "name": "stdout",
     "output_type": "stream",
     "text": [
      "Please enter your Client-ID: \n",
      "Please enter your Client-Secret: \n"
     ]
    }
   ],
   "source": [
    "import json\n",
    "import requests\n",
    "import secrets\n",
    "\n",
    "print('Please enter your Client-ID: ')\n",
    "CLIENT_ID = input()\n",
    "\n",
    "print('Please enter your Client-Secret: ')\n",
    "CLIENT_SECRET = input()"
   ]
  },
  {
   "cell_type": "markdown",
   "metadata": {},
   "source": [
    "### API Demo\n",
    "The following cell is a copy from [this](https://gitlab.com/-/snippets/2039434) program. It accesses the API to retrieve user information. This step is just to test, if you can access the API correctly. You can totally skip this cell."
   ]
  },
  {
   "cell_type": "code",
   "execution_count": 10,
   "metadata": {},
   "outputs": [
    {
     "name": "stdout",
     "output_type": "stream",
     "text": [
      "Authorise your application by clicking here: https://myanimelist.net/v1/oauth2/authorize?response_type=code&client_id=a14143493714f3b61fc5af33fa325a50&code_challenge=H4GaTCcOGZIPDnmXYaJgs0jyAHTK0IpCZVt_CGGEAWFgZY8c6PkA31aNopyEDDkRdMqJPewZ4Kg7Z9Nn1EJfb2xPnGGGYz7RYgU2-vmoL9_afo3CZvDLv_czodF3aZaY\n",
      "\n"
     ]
    },
    {
     "ename": "HTTPError",
     "evalue": "400 Client Error: Bad Request for url: https://myanimelist.net/v1/oauth2/token",
     "output_type": "error",
     "traceback": [
      "\u001b[1;31m---------------------------------------------------------------------------\u001b[0m",
      "\u001b[1;31mHTTPError\u001b[0m                                 Traceback (most recent call last)",
      "Cell \u001b[1;32mIn[10], line 63\u001b[0m\n\u001b[0;32m     60\u001b[0m print_new_authorisation_url(code_challenge)\n\u001b[0;32m     62\u001b[0m authorisation_code \u001b[38;5;241m=\u001b[39m \u001b[38;5;28minput\u001b[39m(\u001b[38;5;124m'\u001b[39m\u001b[38;5;124mCopy-paste the Authorisation Code: \u001b[39m\u001b[38;5;124m'\u001b[39m)\u001b[38;5;241m.\u001b[39mstrip()\n\u001b[1;32m---> 63\u001b[0m token \u001b[38;5;241m=\u001b[39m \u001b[43mgenerate_new_token\u001b[49m\u001b[43m(\u001b[49m\u001b[43mauthorisation_code\u001b[49m\u001b[43m,\u001b[49m\u001b[43m \u001b[49m\u001b[43mcode_verifier\u001b[49m\u001b[43m)\u001b[49m\n\u001b[0;32m     65\u001b[0m print_user_info(token[\u001b[38;5;124m'\u001b[39m\u001b[38;5;124maccess_token\u001b[39m\u001b[38;5;124m'\u001b[39m])\n",
      "Cell \u001b[1;32mIn[10], line 31\u001b[0m, in \u001b[0;36mgenerate_new_token\u001b[1;34m(authorisation_code, code_verifier)\u001b[0m\n\u001b[0;32m     22\u001b[0m data \u001b[38;5;241m=\u001b[39m {\n\u001b[0;32m     23\u001b[0m     \u001b[38;5;124m'\u001b[39m\u001b[38;5;124mclient_id\u001b[39m\u001b[38;5;124m'\u001b[39m: CLIENT_ID,\n\u001b[0;32m     24\u001b[0m     \u001b[38;5;124m'\u001b[39m\u001b[38;5;124mclient_secret\u001b[39m\u001b[38;5;124m'\u001b[39m: CLIENT_SECRET,\n\u001b[1;32m   (...)\u001b[0m\n\u001b[0;32m     27\u001b[0m     \u001b[38;5;124m'\u001b[39m\u001b[38;5;124mgrant_type\u001b[39m\u001b[38;5;124m'\u001b[39m: \u001b[38;5;124m'\u001b[39m\u001b[38;5;124mauthorization_code\u001b[39m\u001b[38;5;124m'\u001b[39m\n\u001b[0;32m     28\u001b[0m }\n\u001b[0;32m     30\u001b[0m response \u001b[38;5;241m=\u001b[39m requests\u001b[38;5;241m.\u001b[39mpost(url, data)\n\u001b[1;32m---> 31\u001b[0m \u001b[43mresponse\u001b[49m\u001b[38;5;241;43m.\u001b[39;49m\u001b[43mraise_for_status\u001b[49m\u001b[43m(\u001b[49m\u001b[43m)\u001b[49m  \u001b[38;5;66;03m# Check whether the request contains errors\u001b[39;00m\n\u001b[0;32m     33\u001b[0m token \u001b[38;5;241m=\u001b[39m response\u001b[38;5;241m.\u001b[39mjson()\n\u001b[0;32m     34\u001b[0m response\u001b[38;5;241m.\u001b[39mclose()\n",
      "File \u001b[1;32mc:\\Users\\Hannes\\.virtualenvs\\HigherLower-os3ldrV3\\Lib\\site-packages\\requests\\models.py:1024\u001b[0m, in \u001b[0;36mResponse.raise_for_status\u001b[1;34m(self)\u001b[0m\n\u001b[0;32m   1019\u001b[0m     http_error_msg \u001b[38;5;241m=\u001b[39m (\n\u001b[0;32m   1020\u001b[0m         \u001b[38;5;124mf\u001b[39m\u001b[38;5;124m\"\u001b[39m\u001b[38;5;132;01m{\u001b[39;00m\u001b[38;5;28mself\u001b[39m\u001b[38;5;241m.\u001b[39mstatus_code\u001b[38;5;132;01m}\u001b[39;00m\u001b[38;5;124m Server Error: \u001b[39m\u001b[38;5;132;01m{\u001b[39;00mreason\u001b[38;5;132;01m}\u001b[39;00m\u001b[38;5;124m for url: \u001b[39m\u001b[38;5;132;01m{\u001b[39;00m\u001b[38;5;28mself\u001b[39m\u001b[38;5;241m.\u001b[39murl\u001b[38;5;132;01m}\u001b[39;00m\u001b[38;5;124m\"\u001b[39m\n\u001b[0;32m   1021\u001b[0m     )\n\u001b[0;32m   1023\u001b[0m \u001b[38;5;28;01mif\u001b[39;00m http_error_msg:\n\u001b[1;32m-> 1024\u001b[0m     \u001b[38;5;28;01mraise\u001b[39;00m HTTPError(http_error_msg, response\u001b[38;5;241m=\u001b[39m\u001b[38;5;28mself\u001b[39m)\n",
      "\u001b[1;31mHTTPError\u001b[0m: 400 Client Error: Bad Request for url: https://myanimelist.net/v1/oauth2/token"
     ]
    }
   ],
   "source": [
    "# 1. Generate a new Code Verifier / Code Challenge.\n",
    "def get_new_code_verifier() -> str:\n",
    "    token = secrets.token_urlsafe(100)\n",
    "    return token[:128]\n",
    "\n",
    "\n",
    "# 2. Print the URL needed to authorise your application.\n",
    "def print_new_authorisation_url(code_challenge: str):\n",
    "    global CLIENT_ID\n",
    "\n",
    "    url = f'https://myanimelist.net/v1/oauth2/authorize?response_type=code&client_id={CLIENT_ID}&code_challenge={code_challenge}'\n",
    "    print(f'Authorise your application by clicking here: {url}\\n')\n",
    "\n",
    "\n",
    "# 3. Once you've authorised your application, you will be redirected to the webpage you've\n",
    "#    specified in the API panel. The URL will contain a parameter named \"code\" (the Authorisation\n",
    "#    Code). You need to feed that code to the application.\n",
    "def generate_new_token(authorisation_code: str, code_verifier: str) -> dict:\n",
    "    global CLIENT_ID, CLIENT_SECRET\n",
    "\n",
    "    url = 'https://myanimelist.net/v1/oauth2/token'\n",
    "    data = {\n",
    "        'client_id': CLIENT_ID,\n",
    "        'client_secret': CLIENT_SECRET,\n",
    "        'code': authorisation_code,\n",
    "        'code_verifier': code_verifier,\n",
    "        'grant_type': 'authorization_code'\n",
    "    }\n",
    "\n",
    "    response = requests.post(url, data)\n",
    "    response.raise_for_status()  # Check whether the request contains errors\n",
    "\n",
    "    token = response.json()\n",
    "    response.close()\n",
    "    print('Token generated successfully!')\n",
    "\n",
    "    with open('token.json', 'w') as file:\n",
    "        json.dump(token, file, indent = 4)\n",
    "        print('Token saved in \"token.json\"')\n",
    "\n",
    "    return token\n",
    "\n",
    "\n",
    "# 4. Test the API by requesting your profile information\n",
    "def print_user_info(access_token: str):\n",
    "    url = 'https://api.myanimelist.net/v2/users/@me'\n",
    "    response = requests.get(url, headers = {\n",
    "        'Authorization': f'Bearer {access_token}'\n",
    "        })\n",
    "    \n",
    "    response.raise_for_status()\n",
    "    user = response.json()\n",
    "    response.close()\n",
    "\n",
    "    print(f\"\\n>>> Greetings {user['name']}! <<<\")\n",
    "    \n",
    "\n",
    "# main program\n",
    "code_verifier = code_challenge = get_new_code_verifier()\n",
    "print_new_authorisation_url(code_challenge)\n",
    "\n",
    "authorisation_code = input('Copy-paste the Authorisation Code: ').strip()\n",
    "token = generate_new_token(authorisation_code, code_verifier)\n",
    "\n",
    "print_user_info(token['access_token'])"
   ]
  },
  {
   "cell_type": "markdown",
   "metadata": {},
   "source": [
    "### Getting information on Anime\n",
    "We get information for the top 500 rated Anime and dump everything into JSON-format. For some reason, this gets all attributes, even when specifying fields. How do u fix dis?"
   ]
  },
  {
   "cell_type": "code",
   "execution_count": 22,
   "metadata": {},
   "outputs": [
    {
     "name": "stdout",
     "output_type": "stream",
     "text": [
      "Finished retrieving data and saving it in data.json!\n"
     ]
    }
   ],
   "source": [
    "def get_anime_ranking():\n",
    "    url = 'https://api.myanimelist.net/v2/anime/ranking?ranking_type=all&limit=500&fields=title,main_picture,alternative_titles,start_date,end_date,mean'\n",
    "    response = requests.get(url, headers = {\n",
    "        'X-MAL-CLIENT-ID': f'{CLIENT_ID}'\n",
    "        })\n",
    "    \n",
    "    response.raise_for_status()\n",
    "    anime_data = response.json()\n",
    "    \n",
    "    with open('anime_data.json', 'w') as f:\n",
    "        json.dump(anime_data, f)\n",
    "    response.close()\n",
    "\n",
    "    print(\"Finished retrieving data and saving it in anime_data.json!\")\n",
    "\n",
    "# main program\n",
    "get_anime_ranking()"
   ]
  },
  {
   "cell_type": "markdown",
   "metadata": {},
   "source": [
    "### Getting information on Manga\n",
    "We do the same as above for the top 500 Manga!"
   ]
  },
  {
   "cell_type": "code",
   "execution_count": 3,
   "metadata": {},
   "outputs": [
    {
     "name": "stdout",
     "output_type": "stream",
     "text": [
      "Finished retrieving data and saving it in manga_data.json!\n"
     ]
    }
   ],
   "source": [
    "def get_manga_ranking():\n",
    "    url = 'https://api.myanimelist.net/v2/manga/ranking?ranking_type=all&limit=500&fields=title,main_picture,alternative_titles,start_date,end_date,mean'\n",
    "    response = requests.get(url, headers = {\n",
    "        'X-MAL-CLIENT-ID': f'{CLIENT_ID}'\n",
    "        })\n",
    "    \n",
    "    response.raise_for_status()\n",
    "    manga_data = response.json()\n",
    "    \n",
    "    with open('manga_data.json', 'w') as f:\n",
    "        json.dump(manga_data, f)\n",
    "    response.close()\n",
    "\n",
    "    print(\"Finished retrieving data and saving it in manga_data.json!\")\n",
    "\n",
    "# main program\n",
    "get_manga_ranking()"
   ]
  },
  {
   "cell_type": "code",
   "execution_count": null,
   "metadata": {},
   "outputs": [],
   "source": []
  }
 ],
 "metadata": {
  "kernelspec": {
   "display_name": "HigherLower-os3ldrV3",
   "language": "python",
   "name": "python3"
  },
  "language_info": {
   "codemirror_mode": {
    "name": "ipython",
    "version": 3
   },
   "file_extension": ".py",
   "mimetype": "text/x-python",
   "name": "python",
   "nbconvert_exporter": "python",
   "pygments_lexer": "ipython3",
   "version": "3.12.6"
  }
 },
 "nbformat": 4,
 "nbformat_minor": 2
}
